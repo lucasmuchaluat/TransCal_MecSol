{
 "cells": [
  {
   "cell_type": "markdown",
   "metadata": {},
   "source": [
    "# APS 1: Software para Análise de Treliças e Validação em Protótipo\n",
    "---"
   ]
  },
  {
   "cell_type": "markdown",
   "metadata": {},
   "source": [
    "## Objetivo Geral\n",
    "\n",
    "O objetivo da atividade é desenvolv|er um software de simulação para análise de treliças planas, projetar uma estrutura com base nos resultados do software\n",
    "\n",
    "---"
   ]
  },
  {
   "cell_type": "markdown",
   "metadata": {},
   "source": [
    "### Importando Bibliotecas e Funções que serão usadas no software:"
   ]
  },
  {
   "cell_type": "code",
   "execution_count": 37,
   "metadata": {},
   "outputs": [],
   "source": [
    "import numpy as np\n",
    "import math\n",
    "from funcoesTermosol import importa\n",
    "from funcoesTermosol import plota\n",
    "from funcoesTermosol import geraSaida"
   ]
  },
  {
   "cell_type": "markdown",
   "metadata": {},
   "source": [
    "### Importando os dados\n",
    "Dados da estrutura:\n",
    "* nn  = número de nós\n",
    "* N   = coordenadas dos nós\n",
    "* nm  = número de membros\n",
    "* Inc = incidência\n",
    "\n",
    "Dados do carregamento:\n",
    "* nc  = número de cargas\n",
    "* F   = forças\n",
    "* nr  = número de restrições\n",
    "* R   = restrições"
   ]
  },
  {
   "cell_type": "code",
   "execution_count": 38,
   "metadata": {},
   "outputs": [],
   "source": [
    "[nn,N,nm,Inc,nc,F,nr,R] = importa('entradaG6.xlsx')"
   ]
  },
  {
   "cell_type": "markdown",
   "metadata": {},
   "source": [
    "### Gráfico da estrutura definida pela matriz de nos N  e pela incidencia Inc:"
   ]
  },
  {
   "cell_type": "code",
   "execution_count": 39,
   "metadata": {},
   "outputs": [
    {
     "data": {
      "image/png": "[encoded data removed]",
      "text/plain": [
       "<Figure size 432x288 with 1 Axes>"
      ]
     },
     "metadata": {
      "needs_background": "light"
     },
     "output_type": "display_data"
    }
   ],
   "source": [
    "plota(N,Inc)"
   ]
  },
  {
   "cell_type": "markdown",
   "metadata": {},
   "source": [
    "### Determinação das propriedades de cada elemento: comprimento L, módulo de elasticidade E e área A"
   ]
  },
  {
   "cell_type": "code",
   "execution_count": 40,
   "metadata": {},
   "outputs": [],
   "source": [
    "L = []\n",
    "E = []\n",
    "A = []\n",
    "\n",
    "relacoes1 = Inc[:,0]\n",
    "relacoes2 = Inc[:,1]\n",
    "x = N[0]\n",
    "y = N[1]\n",
    "\n",
    "for e in range(nm):\n",
    "    x1 = x[int(relacoes1[e])-1]\n",
    "    y1 = y[int(relacoes1[e])-1]\n",
    "    x2 = x[int(relacoes2[e])-1]\n",
    "    y2 = y[int(relacoes2[e])-1]\n",
    "    \n",
    "    L.append(((x1-x2)**2+(y1-y2)**2)**(1/2))\n",
    "    E.append(Inc[e][2])\n",
    "    A.append(Inc[e][3])"
   ]
  },
  {
   "cell_type": "markdown",
   "metadata": {},
   "source": [
    "### Montagem das matrizes dos elementos:"
   ]
  },
  {
   "cell_type": "code",
   "execution_count": 41,
   "metadata": {},
   "outputs": [],
   "source": [
    "#calculando os senos e cossenos de cada elemento\n",
    "cos =[]\n",
    "sen=[]\n",
    "\n",
    "for e in range(nm):\n",
    "    x1 = x[int(relacoes1[e])-1]\n",
    "    y1 = y[int(relacoes1[e])-1]\n",
    "    x2 = x[int(relacoes2[e])-1]\n",
    "    y2 = y[int(relacoes2[e])-1]\n",
    "    \n",
    "    sen.append((y2-y1)/L[e])\n",
    "    cos.append((x2-x1)/L[e])\n"
   ]
  },
  {
   "cell_type": "code",
   "execution_count": 42,
   "metadata": {},
   "outputs": [
    {
     "data": {
      "text/plain": [
       "16"
      ]
     },
     "execution_count": 42,
     "metadata": {},
     "output_type": "execute_result"
    }
   ],
   "source": [
    "#construindo as matrizes de rigidez de cada elemento\n",
    "\n",
    "TK =[]\n",
    "\n",
    "for e in range(nm):\n",
    "    c = cos[e]\n",
    "    s = sen [e]\n",
    "    T = np.array([[c**2, c*s, -c**2, -c*s],\n",
    "                [c*s, s**2, -c*s, -s**2],\n",
    "                 [-c**2, -c*s, c**2, c*s],\n",
    "                 [-c*s, -s**2, c*s, s**2]])\n",
    "    TK.append((E[e]*A[e]/L[e]) * (T))\n",
    "\n",
    "len(TK)"
   ]
  },
  {
   "cell_type": "markdown",
   "metadata": {},
   "source": [
    "### Fazendo a superposição das matrizes – Rigidez global da estrutura"
   ]
  },
  {
   "cell_type": "code",
   "execution_count": 43,
   "metadata": {},
   "outputs": [],
   "source": [
    "gdl = []\n",
    "nos = np.delete(Inc, [2,3], 1)\n",
    "for par in nos:\n",
    "    lista = []\n",
    "    lista.append(par[0]*2-2)\n",
    "    lista.append(par[0]*2-1)\n",
    "    lista.append(par[1]*2-2)\n",
    "    lista.append(par[1]*2-1)\n",
    "    gdl.append(lista)\n",
    "    \n",
    "\n",
    "gdlmax = nn*2    \n",
    "Kglobal = np.zeros((gdlmax, gdlmax))\n",
    "for ke in range(len(TK)):\n",
    "    Kglobal[int(gdl[ke][0]):int(gdl[ke][1]+1),int(gdl[ke][0]):int(gdl[ke][1]+1)] += TK[ke][0:2,0:2] # A\n",
    "    Kglobal[int(gdl[ke][2]):int(gdl[ke][3]+1),int(gdl[ke][0]):int(gdl[ke][1]+1)] += TK[ke][2:4,0:2] # B\n",
    "    Kglobal[int(gdl[ke][0]):int(gdl[ke][1]+1),int(gdl[ke][2]):int(gdl[ke][3]+1)] += TK[ke][0:2,2:4] # C\n",
    "    Kglobal[int(gdl[ke][2]):int(gdl[ke][3]+1),int(gdl[ke][2]):int(gdl[ke][3]+1)] += TK[ke][2:4,2:4] # D"
   ]
  },
  {
   "cell_type": "markdown",
   "metadata": {},
   "source": [
    "### Montagem do vetor de carga global da estrutura:"
   ]
  },
  {
   "cell_type": "code",
   "execution_count": 44,
   "metadata": {
    "scrolled": true
   },
   "outputs": [
    {
     "name": "stderr",
     "output_type": "stream",
     "text": [
      "C:\\Users\\mucha\\Anaconda3\\lib\\site-packages\\ipykernel_launcher.py:1: DeprecationWarning: using a non-integer array as obj in delete will result in an error in the future\n",
      "  \"\"\"Entry point for launching an IPython kernel.\n"
     ]
    },
    {
     "data": {
      "text/plain": [
       "array([    0.,     0.,     0.,  2000.,     0.,     0.,     0.,     0.,\n",
       "           0.,  2000., 10000.])"
      ]
     },
     "execution_count": 44,
     "metadata": {},
     "output_type": "execute_result"
    }
   ],
   "source": [
    "Fcontorno = np.delete(F, R)\n",
    "Fcontorno"
   ]
  },
  {
   "cell_type": "markdown",
   "metadata": {},
   "source": [
    "### Aplicação das condições de contorno:"
   ]
  },
  {
   "cell_type": "code",
   "execution_count": 45,
   "metadata": {},
   "outputs": [
    {
     "name": "stderr",
     "output_type": "stream",
     "text": [
      "C:\\Users\\mucha\\Anaconda3\\lib\\site-packages\\ipykernel_launcher.py:1: DeprecationWarning: using a non-integer array as obj in delete will result in an error in the future\n",
      "  \"\"\"Entry point for launching an IPython kernel.\n",
      "C:\\Users\\mucha\\Anaconda3\\lib\\site-packages\\ipykernel_launcher.py:2: DeprecationWarning: using a non-integer array as obj in delete will result in an error in the future\n",
      "  \n"
     ]
    }
   ],
   "source": [
    "Kcontorno = np.delete(Kglobal, R, 0)\n",
    "Kcontorno = np.delete(Kcontorno, R, 1)"
   ]
  },
  {
   "cell_type": "markdown",
   "metadata": {},
   "source": [
    "### Solução do sistema de equações:"
   ]
  },
  {
   "cell_type": "code",
   "execution_count": 46,
   "metadata": {},
   "outputs": [
    {
     "data": {
      "text/plain": [
       "array([2.75534644e-07, 1.62744803e-07, 4.99549629e-08, 1.22143612e-06,\n",
       "       1.75099073e-07, 6.23056619e-07, 7.50825528e-07, 3.50166729e-07,\n",
       "       2.72889890e-07, 1.33551493e-06, 1.95281042e-06])"
      ]
     },
     "execution_count": 46,
     "metadata": {},
     "output_type": "execute_result"
    }
   ],
   "source": [
    "Ut_solve = np.linalg.solve(Kcontorno, Fcontorno)\n",
    "Ut_solve"
   ]
  },
  {
   "cell_type": "markdown",
   "metadata": {},
   "source": [
    "### Obtendo todos os os deslocamentos nodais Ut:"
   ]
  },
  {
   "cell_type": "code",
   "execution_count": 47,
   "metadata": {},
   "outputs": [
    {
     "data": {
      "text/plain": [
       "array([[0.00000000e+00],\n",
       "       [0.00000000e+00],\n",
       "       [2.75534644e-07],\n",
       "       [0.00000000e+00],\n",
       "       [1.62744803e-07],\n",
       "       [0.00000000e+00],\n",
       "       [4.99549629e-08],\n",
       "       [0.00000000e+00],\n",
       "       [0.00000000e+00],\n",
       "       [0.00000000e+00],\n",
       "       [1.22143612e-06],\n",
       "       [1.75099073e-07],\n",
       "       [6.23056619e-07],\n",
       "       [7.50825528e-07],\n",
       "       [3.50166729e-07],\n",
       "       [2.72889890e-07],\n",
       "       [1.33551493e-06],\n",
       "       [1.95281042e-06]])"
      ]
     },
     "execution_count": 47,
     "metadata": {},
     "output_type": "execute_result"
    }
   ],
   "source": [
    "Ut = np.zeros((gdlmax,1))\n",
    "i = 0\n",
    "for e in range(len(Ut)):\n",
    "    if e not in R:\n",
    "        Ut[e] += Ut_solve[i]\n",
    "        i += 1\n",
    "\n",
    "Ut"
   ]
  },
  {
   "cell_type": "markdown",
   "metadata": {},
   "source": [
    "### Calculando as reações de apoio Ft:"
   ]
  },
  {
   "cell_type": "code",
   "execution_count": 48,
   "metadata": {
    "scrolled": true
   },
   "outputs": [],
   "source": [
    "Ft = np.dot(Kglobal, Ut)"
   ]
  },
  {
   "cell_type": "code",
   "execution_count": 49,
   "metadata": {},
   "outputs": [
    {
     "data": {
      "text/plain": [
       "array([-3634.86876688, -2332.96757527, -2662.17630959, -3547.65062167,\n",
       "       -1586.29952681,  -365.13123312,   129.09403334])"
      ]
     },
     "execution_count": 49,
     "metadata": {},
     "output_type": "execute_result"
    }
   ],
   "source": [
    "# ajuste nas forças de deslocamento que não deveriam existir\n",
    "\n",
    "indexes = []\n",
    "for w in range(len(Ft)):\n",
    "    if w not in R:\n",
    "        indexes.append(w)   \n",
    "\n",
    "Ft = np.delete(Ft, indexes)\n",
    "Ft"
   ]
  },
  {
   "cell_type": "markdown",
   "metadata": {},
   "source": [
    "### Calculando as deformações em cada elemento Epsi:"
   ]
  },
  {
   "cell_type": "code",
   "execution_count": 50,
   "metadata": {},
   "outputs": [
    {
     "data": {
      "text/plain": [
       "array([[ 2.75534644e-07],\n",
       "       [-1.12789840e-07],\n",
       "       [-1.12789840e-07],\n",
       "       [-4.99549629e-08],\n",
       "       [ 6.98267595e-07],\n",
       "       [ 1.75099073e-07],\n",
       "       [ 5.49173752e-07],\n",
       "       [ 7.50825528e-07],\n",
       "       [ 8.88619359e-08],\n",
       "       [-5.98379497e-07],\n",
       "       [-2.72889890e-07],\n",
       "       [ 2.72889890e-07],\n",
       "       [-3.86384196e-08],\n",
       "       [ 9.45895079e-07],\n",
       "       [ 1.20198489e-06],\n",
       "       [ 3.47286164e-07]])"
      ]
     },
     "execution_count": 50,
     "metadata": {},
     "output_type": "execute_result"
    }
   ],
   "source": [
    "Epsi_list = []\n",
    "for i in range(nm):\n",
    "    E_value = E[i]\n",
    "    c = cos[i]\n",
    "    s = sen[i]\n",
    "    L_value = L[i]\n",
    "    constantesEpsi = np.dot([-c, -s, c, s], 1/L_value)\n",
    "    deslocamentos = [Ut_todos[int(gdl[i][0])], Ut_todos[int(gdl[i][1])], Ut_todos[int(gdl[i][2])], Ut_todos[int(gdl[i][3])]]\n",
    "    \n",
    "    val = np.dot(constantesEpsi, deslocamentos)\n",
    "    \n",
    "    Epsi_list.append(val)\n",
    "    \n",
    "Epsi = np.dot(Epsi_list, 1)\n",
    "Epsi"
   ]
  },
  {
   "cell_type": "markdown",
   "metadata": {},
   "source": [
    "### Calculando tensões normais internas Ti de cada elemento:"
   ]
  },
  {
   "cell_type": "code",
   "execution_count": 51,
   "metadata": {},
   "outputs": [
    {
     "data": {
      "text/plain": [
       "array([[  57862.27518256],\n",
       "       [ -23685.86648495],\n",
       "       [ -23685.86648495],\n",
       "       [ -10490.54221267],\n",
       "       [ 146636.19491206],\n",
       "       [  36770.80542544],\n",
       "       [ 115326.48793251],\n",
       "       [ 157673.36096323],\n",
       "       [  18661.00654577],\n",
       "       [-125659.69431433],\n",
       "       [ -57306.8769191 ],\n",
       "       [  57306.8769191 ],\n",
       "       [  -8114.06812308],\n",
       "       [ 198637.96664411],\n",
       "       [ 252416.82690302],\n",
       "       [  72930.09443316]])"
      ]
     },
     "execution_count": 51,
     "metadata": {},
     "output_type": "execute_result"
    }
   ],
   "source": [
    "Ti_list=[]\n",
    "for i in range(len(Epsi)):\n",
    "    Ti_list.append(Epsi[i]*E[i])\n",
    "\n",
    "Ti = np.dot(Ti_list, 1)\n",
    "Ti"
   ]
  },
  {
   "cell_type": "markdown",
   "metadata": {},
   "source": [
    "### Calculando os esforços normais internos Fi de cada elemento:"
   ]
  },
  {
   "cell_type": "code",
   "execution_count": 52,
   "metadata": {},
   "outputs": [
    {
     "data": {
      "text/plain": [
       "array([[ 1301.90119161],\n",
       "       [ -532.93199591],\n",
       "       [ -532.93199591],\n",
       "       [ -236.03719978],\n",
       "       [ 3299.31438552],\n",
       "       [  827.34312207],\n",
       "       [ 2594.84597848],\n",
       "       [ 3547.65062167],\n",
       "       [  419.87264728],\n",
       "       [-2827.34312207],\n",
       "       [-1289.40473068],\n",
       "       [ 1289.40473068],\n",
       "       [ -182.56653277],\n",
       "       [ 4469.35424949],\n",
       "       [ 5679.37860532],\n",
       "       [ 1640.92712475]])"
      ]
     },
     "execution_count": 52,
     "metadata": {},
     "output_type": "execute_result"
    }
   ],
   "source": [
    "Fi_list=[]\n",
    "for i in range(len(Ti)):\n",
    "    Fi_list.append(Ti[i]*A[i])\n",
    "\n",
    "Fi = np.dot(Fi_list, 1)\n",
    "Fi"
   ]
  },
  {
   "cell_type": "markdown",
   "metadata": {},
   "source": [
    "### Gerando o arquivo texto de saída que contém esses resultados:"
   ]
  },
  {
   "cell_type": "code",
   "execution_count": 53,
   "metadata": {},
   "outputs": [],
   "source": [
    "geraSaida(\"saidaG6\", Ft, Ut_todos, Epsi, Fi, Ti)"
   ]
  }
 ],
 "metadata": {
  "kernelspec": {
   "display_name": "Python 3",
   "language": "python",
   "name": "python3"
  },
  "language_info": {
   "codemirror_mode": {
    "name": "ipython",
    "version": 3
   },
   "file_extension": ".py",
   "mimetype": "text/x-python",
   "name": "python",
   "nbconvert_exporter": "python",
   "pygments_lexer": "ipython3",
   "version": "3.7.3"
  }
 },
 "nbformat": 4,
 "nbformat_minor": 4
}
