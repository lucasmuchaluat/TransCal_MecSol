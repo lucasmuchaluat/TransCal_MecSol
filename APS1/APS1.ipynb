{
 "cells": [
  {
   "cell_type": "code",
   "execution_count": 111,
   "metadata": {},
   "outputs": [],
   "source": [
    "import numpy as np\n",
    "import math\n",
    "from funcoesTermosol import importa\n",
    "from funcoesTermosol import plota"
   ]
  },
  {
   "cell_type": "code",
   "execution_count": 112,
   "metadata": {},
   "outputs": [],
   "source": [
    "[nn,N,nm,Inc,nc,F,nr,R] = importa('entrada.xlsx')"
   ]
  },
  {
   "cell_type": "code",
   "execution_count": 113,
   "metadata": {},
   "outputs": [
    {
     "data": {
      "image/png": "[encoded data removed]",
      "text/plain": [
       "<Figure size 432x288 with 1 Axes>"
      ]
     },
     "metadata": {
      "needs_background": "light"
     },
     "output_type": "display_data"
    }
   ],
   "source": [
    "plota(N,Inc)"
   ]
  },
  {
   "cell_type": "code",
   "execution_count": 114,
   "metadata": {},
   "outputs": [
    {
     "data": {
      "text/plain": [
       "[1.0,\n",
       " 1.0,\n",
       " 1.0,\n",
       " 1.0,\n",
       " 1.4142135623730951,\n",
       " 1.0,\n",
       " 1.4142135623730951,\n",
       " 1.0,\n",
       " 1.4142135623730951,\n",
       " 1.0,\n",
       " 1.0,\n",
       " 1.0,\n",
       " 1.4142135623730951,\n",
       " 1.4142135623730951,\n",
       " 1.0,\n",
       " 1.4142135623730951]"
      ]
     },
     "execution_count": 114,
     "metadata": {},
     "output_type": "execute_result"
    }
   ],
   "source": [
    "#descobrindo o L\n",
    "L = []\n",
    "relacoes1 = Inc[:,0]\n",
    "relacoes2 = Inc[:,1]\n",
    "x = N[0]\n",
    "y = N[1]\n",
    "\n",
    "for e in range(nm):\n",
    "    x1 = x[int(relacoes1[e])-1]\n",
    "    y1 = y[int(relacoes1[e])-1]\n",
    "    x2 = x[int(relacoes2[e])-1]\n",
    "    y2 = y[int(relacoes2[e])-1]\n",
    "    \n",
    "    L.append(((x1-x2)**2+(y1-y2)**2)**(1/2))\n",
    "\n",
    "L"
   ]
  },
  {
   "cell_type": "code",
   "execution_count": 115,
   "metadata": {},
   "outputs": [],
   "source": [
    "#descobrindo os senos e cossenos\n",
    "cos =[]\n",
    "sen=[]\n",
    "\n",
    "for e in range(nm):\n",
    "    x1 = x[int(relacoes1[e])-1]\n",
    "    y1 = y[int(relacoes1[e])-1]\n",
    "    x2 = x[int(relacoes2[e])-1]\n",
    "    y2 = y[int(relacoes2[e])-1]\n",
    "    \n",
    "    sen.append((y2-y1)/L[e])\n",
    "    cos.append((x2-x1)/L[e])\n"
   ]
  },
  {
   "cell_type": "code",
   "execution_count": 116,
   "metadata": {},
   "outputs": [],
   "source": [
    "E = []\n",
    "A = []\n",
    "\n",
    "for e in range(nm):\n",
    "    E.append(Inc[e][2])\n",
    "    A.append(Inc[e][3])\n",
    "  "
   ]
  },
  {
   "cell_type": "code",
   "execution_count": 117,
   "metadata": {
    "scrolled": false
   },
   "outputs": [
    {
     "data": {
      "text/plain": [
       "16"
      ]
     },
     "execution_count": 117,
     "metadata": {},
     "output_type": "execute_result"
    }
   ],
   "source": [
    "TK =[]\n",
    "\n",
    "for e in range(nm):\n",
    "    c = cos[e]\n",
    "    s = sen [e]\n",
    "    T = np.array([[c**2, c*s, -c**2, -c*s],\n",
    "                [c*s, s**2, -c*s, -s**2],\n",
    "                 [-c**2, -c*s, c**2, c*s],\n",
    "                 [-c*s, -s**2, c*s, s**2]])\n",
    "    TK.append((E[e]*A[e]/L[e]) * (T))\n",
    "\n",
    "len(TK)"
   ]
  },
  {
   "cell_type": "code",
   "execution_count": 118,
   "metadata": {},
   "outputs": [
    {
     "data": {
      "text/plain": [
       "16"
      ]
     },
     "execution_count": 118,
     "metadata": {},
     "output_type": "execute_result"
    }
   ],
   "source": [
    "gdl = []\n",
    "nos = np.delete(Inc, [2,3], 1)\n",
    "for par in nos:\n",
    "    lista = []\n",
    "    lista.append(par[0]*2-2)\n",
    "    lista.append(par[0]*2-1)\n",
    "    lista.append(par[1]*2-2)\n",
    "    lista.append(par[1]*2-1)\n",
    "    gdl.append(lista)\n",
    "    \n",
    "len(gdl)"
   ]
  },
  {
   "cell_type": "code",
   "execution_count": 119,
   "metadata": {},
   "outputs": [
    {
     "data": {
      "text/plain": [
       "array([[ 1.75160795e+10,  3.34107954e+09, -9.45000000e+09,\n",
       "         0.00000000e+00,  0.00000000e+00,  0.00000000e+00,\n",
       "         0.00000000e+00,  0.00000000e+00,  0.00000000e+00,\n",
       "         0.00000000e+00, -3.34107954e+09, -3.34107954e+09,\n",
       "         0.00000000e+00,  0.00000000e+00,  0.00000000e+00,\n",
       "         0.00000000e+00,  0.00000000e+00,  0.00000000e+00],\n",
       "       [ 3.34107954e+09,  3.34107954e+09,  0.00000000e+00,\n",
       "         0.00000000e+00,  0.00000000e+00,  0.00000000e+00,\n",
       "         0.00000000e+00,  0.00000000e+00,  0.00000000e+00,\n",
       "         0.00000000e+00, -3.34107954e+09, -3.34107954e+09,\n",
       "         0.00000000e+00,  0.00000000e+00,  0.00000000e+00,\n",
       "         0.00000000e+00,  0.00000000e+00,  0.00000000e+00],\n",
       "       [-9.45000000e+09,  0.00000000e+00,  2.22410795e+10,\n",
       "         3.34107954e+09, -9.45000000e+09,  0.00000000e+00,\n",
       "         0.00000000e+00,  0.00000000e+00,  0.00000000e+00,\n",
       "         0.00000000e+00,  0.00000000e+00,  0.00000000e+00,\n",
       "        -3.34107954e+09, -3.34107954e+09,  0.00000000e+00,\n",
       "         0.00000000e+00,  0.00000000e+00,  0.00000000e+00],\n",
       "       [ 0.00000000e+00,  0.00000000e+00,  3.34107954e+09,\n",
       "         1.27910795e+10,  0.00000000e+00,  0.00000000e+00,\n",
       "         0.00000000e+00,  0.00000000e+00,  0.00000000e+00,\n",
       "         0.00000000e+00,  0.00000000e+00, -9.45000000e+09,\n",
       "        -3.34107954e+09, -3.34107954e+09,  0.00000000e+00,\n",
       "         0.00000000e+00,  0.00000000e+00,  0.00000000e+00],\n",
       "       [ 0.00000000e+00,  0.00000000e+00, -9.45000000e+09,\n",
       "         0.00000000e+00,  1.89000000e+10,  0.00000000e+00,\n",
       "        -9.45000000e+09,  0.00000000e+00,  0.00000000e+00,\n",
       "         0.00000000e+00,  0.00000000e+00,  0.00000000e+00,\n",
       "         0.00000000e+00,  0.00000000e+00,  0.00000000e+00,\n",
       "         0.00000000e+00,  0.00000000e+00,  0.00000000e+00],\n",
       "       [ 0.00000000e+00,  0.00000000e+00,  0.00000000e+00,\n",
       "         0.00000000e+00,  0.00000000e+00,  9.45000000e+09,\n",
       "         0.00000000e+00,  0.00000000e+00,  0.00000000e+00,\n",
       "         0.00000000e+00,  0.00000000e+00,  0.00000000e+00,\n",
       "         0.00000000e+00, -9.45000000e+09,  0.00000000e+00,\n",
       "         0.00000000e+00,  0.00000000e+00,  0.00000000e+00],\n",
       "       [ 0.00000000e+00,  0.00000000e+00,  0.00000000e+00,\n",
       "         0.00000000e+00, -9.45000000e+09,  0.00000000e+00,\n",
       "         2.22410795e+10, -3.34107954e+09, -9.45000000e+09,\n",
       "         0.00000000e+00,  0.00000000e+00,  0.00000000e+00,\n",
       "        -3.34107954e+09,  3.34107954e+09,  0.00000000e+00,\n",
       "         0.00000000e+00,  0.00000000e+00,  0.00000000e+00],\n",
       "       [ 0.00000000e+00,  0.00000000e+00,  0.00000000e+00,\n",
       "         0.00000000e+00,  0.00000000e+00,  0.00000000e+00,\n",
       "        -3.34107954e+09,  1.27910795e+10,  0.00000000e+00,\n",
       "         0.00000000e+00,  0.00000000e+00,  0.00000000e+00,\n",
       "         3.34107954e+09, -3.34107954e+09,  0.00000000e+00,\n",
       "        -9.45000000e+09,  0.00000000e+00,  0.00000000e+00],\n",
       "       [ 0.00000000e+00,  0.00000000e+00,  0.00000000e+00,\n",
       "         0.00000000e+00,  0.00000000e+00,  0.00000000e+00,\n",
       "        -9.45000000e+09,  0.00000000e+00,  1.27910795e+10,\n",
       "        -3.34107954e+09,  0.00000000e+00,  0.00000000e+00,\n",
       "         0.00000000e+00,  0.00000000e+00, -3.34107954e+09,\n",
       "         3.34107954e+09,  0.00000000e+00,  0.00000000e+00],\n",
       "       [ 0.00000000e+00,  0.00000000e+00,  0.00000000e+00,\n",
       "         0.00000000e+00,  0.00000000e+00,  0.00000000e+00,\n",
       "         0.00000000e+00,  0.00000000e+00, -3.34107954e+09,\n",
       "         3.34107954e+09,  0.00000000e+00,  0.00000000e+00,\n",
       "         0.00000000e+00,  0.00000000e+00,  3.34107954e+09,\n",
       "        -3.34107954e+09,  0.00000000e+00,  0.00000000e+00],\n",
       "       [-3.34107954e+09, -3.34107954e+09,  0.00000000e+00,\n",
       "         0.00000000e+00,  0.00000000e+00,  0.00000000e+00,\n",
       "         0.00000000e+00,  0.00000000e+00,  0.00000000e+00,\n",
       "         0.00000000e+00,  1.61321591e+10,  6.68215908e+09,\n",
       "        -9.45000000e+09,  0.00000000e+00,  0.00000000e+00,\n",
       "         0.00000000e+00, -3.34107954e+09, -3.34107954e+09],\n",
       "       [-3.34107954e+09, -3.34107954e+09,  0.00000000e+00,\n",
       "        -9.45000000e+09,  0.00000000e+00,  0.00000000e+00,\n",
       "         0.00000000e+00,  0.00000000e+00,  0.00000000e+00,\n",
       "         0.00000000e+00,  6.68215908e+09,  1.61321591e+10,\n",
       "         0.00000000e+00,  0.00000000e+00,  0.00000000e+00,\n",
       "         0.00000000e+00, -3.34107954e+09, -3.34107954e+09],\n",
       "       [ 0.00000000e+00,  0.00000000e+00, -3.34107954e+09,\n",
       "        -3.34107954e+09,  0.00000000e+00,  0.00000000e+00,\n",
       "        -3.34107954e+09,  3.34107954e+09,  0.00000000e+00,\n",
       "         0.00000000e+00, -9.45000000e+09,  0.00000000e+00,\n",
       "         2.55821591e+10,  0.00000000e+00, -9.45000000e+09,\n",
       "         0.00000000e+00,  0.00000000e+00,  0.00000000e+00],\n",
       "       [ 0.00000000e+00,  0.00000000e+00, -3.34107954e+09,\n",
       "        -3.34107954e+09,  0.00000000e+00, -9.45000000e+09,\n",
       "         3.34107954e+09, -3.34107954e+09,  0.00000000e+00,\n",
       "         0.00000000e+00,  0.00000000e+00,  0.00000000e+00,\n",
       "         0.00000000e+00,  2.55821591e+10,  0.00000000e+00,\n",
       "         0.00000000e+00,  0.00000000e+00, -9.45000000e+09],\n",
       "       [ 0.00000000e+00,  0.00000000e+00,  0.00000000e+00,\n",
       "         0.00000000e+00,  0.00000000e+00,  0.00000000e+00,\n",
       "         0.00000000e+00,  0.00000000e+00, -3.34107954e+09,\n",
       "         3.34107954e+09,  0.00000000e+00,  0.00000000e+00,\n",
       "        -9.45000000e+09,  0.00000000e+00,  1.61321591e+10,\n",
       "        -6.68215908e+09, -3.34107954e+09,  3.34107954e+09],\n",
       "       [ 0.00000000e+00,  0.00000000e+00,  0.00000000e+00,\n",
       "         0.00000000e+00,  0.00000000e+00,  0.00000000e+00,\n",
       "         0.00000000e+00, -9.45000000e+09,  3.34107954e+09,\n",
       "        -3.34107954e+09,  0.00000000e+00,  0.00000000e+00,\n",
       "         0.00000000e+00,  0.00000000e+00, -6.68215908e+09,\n",
       "         1.61321591e+10,  3.34107954e+09, -3.34107954e+09],\n",
       "       [ 0.00000000e+00,  0.00000000e+00,  0.00000000e+00,\n",
       "         0.00000000e+00,  0.00000000e+00,  0.00000000e+00,\n",
       "         0.00000000e+00,  0.00000000e+00,  0.00000000e+00,\n",
       "         0.00000000e+00, -3.34107954e+09, -3.34107954e+09,\n",
       "         0.00000000e+00,  0.00000000e+00, -3.34107954e+09,\n",
       "         3.34107954e+09,  6.68215908e+09,  0.00000000e+00],\n",
       "       [ 0.00000000e+00,  0.00000000e+00,  0.00000000e+00,\n",
       "         0.00000000e+00,  0.00000000e+00,  0.00000000e+00,\n",
       "         0.00000000e+00,  0.00000000e+00,  0.00000000e+00,\n",
       "         0.00000000e+00, -3.34107954e+09, -3.34107954e+09,\n",
       "         0.00000000e+00, -9.45000000e+09,  3.34107954e+09,\n",
       "        -3.34107954e+09,  0.00000000e+00,  1.61321591e+10]])"
      ]
     },
     "execution_count": 119,
     "metadata": {},
     "output_type": "execute_result"
    }
   ],
   "source": [
    "gdlmax = 18\n",
    "\n",
    "gdl = []\n",
    "nos = np.delete(Inc, [2,3], 1)\n",
    "for par in nos:\n",
    "    lista = []\n",
    "    lista.append(par[0]*2-2)\n",
    "    lista.append(par[0]*2-1)\n",
    "    lista.append(par[1]*2-2)\n",
    "    lista.append(par[1]*2-1)\n",
    "    gdl.append(lista)\n",
    "\n",
    "for ke in range(len(TK)):\n",
    "    Kglobal[int(gdl[ke][0]):int(gdl[ke][1]+1),int(gdl[ke][0]):int(gdl[ke][1]+1)] += TK[ke][0:2,0:2] # A\n",
    "    Kglobal[int(gdl[ke][2]):int(gdl[ke][3]+1),int(gdl[ke][0]):int(gdl[ke][1]+1)] += TK[ke][2:4,0:2] # B\n",
    "    Kglobal[int(gdl[ke][0]):int(gdl[ke][1]+1),int(gdl[ke][2]):int(gdl[ke][3]+1)] += TK[ke][0:2,2:4] # C\n",
    "    Kglobal[int(gdl[ke][2]):int(gdl[ke][3]+1),int(gdl[ke][2]):int(gdl[ke][3]+1)] += TK[ke][2:4,2:4] # D\n",
    "\n",
    "Kglobal"
   ]
  },
  {
   "cell_type": "code",
   "execution_count": 120,
   "metadata": {
    "scrolled": false
   },
   "outputs": [
    {
     "name": "stderr",
     "output_type": "stream",
     "text": [
      "C:\\Users\\mucha\\Anaconda3\\lib\\site-packages\\ipykernel_launcher.py:1: DeprecationWarning: using a non-integer array as obj in delete will result in an error in the future\n",
      "  \"\"\"Entry point for launching an IPython kernel.\n"
     ]
    },
    {
     "data": {
      "text/plain": [
       "array([    0.,     0.,     0.,  2000.,     0.,     0.,     0.,     0.,\n",
       "           0.,  2000., 10000.])"
      ]
     },
     "execution_count": 120,
     "metadata": {},
     "output_type": "execute_result"
    }
   ],
   "source": [
    "F_contorno = np.delete(F, R)\n",
    "F_contorno"
   ]
  },
  {
   "cell_type": "code",
   "execution_count": 121,
   "metadata": {},
   "outputs": [
    {
     "name": "stderr",
     "output_type": "stream",
     "text": [
      "C:\\Users\\mucha\\Anaconda3\\lib\\site-packages\\ipykernel_launcher.py:1: DeprecationWarning: using a non-integer array as obj in delete will result in an error in the future\n",
      "  \"\"\"Entry point for launching an IPython kernel.\n",
      "C:\\Users\\mucha\\Anaconda3\\lib\\site-packages\\ipykernel_launcher.py:2: DeprecationWarning: using a non-integer array as obj in delete will result in an error in the future\n",
      "  \n"
     ]
    },
    {
     "data": {
      "text/plain": [
       "(11, 11)"
      ]
     },
     "execution_count": 121,
     "metadata": {},
     "output_type": "execute_result"
    }
   ],
   "source": [
    "Kcontorno = np.delete(Kglobal, R, 0)\n",
    "Kcontorno = np.delete(Kcontorno, R, 1)\n",
    "\n",
    "Kcontorno.shape"
   ]
  },
  {
   "cell_type": "code",
   "execution_count": 122,
   "metadata": {},
   "outputs": [
    {
     "data": {
      "text/plain": [
       "array([1.37767322e-07, 8.13724017e-08, 2.49774815e-08, 6.10718058e-07,\n",
       "       8.75495367e-08, 3.11528310e-07, 3.75412764e-07, 1.75083365e-07,\n",
       "       1.36444945e-07, 6.67757465e-07, 9.76405209e-07])"
      ]
     },
     "execution_count": 122,
     "metadata": {},
     "output_type": "execute_result"
    }
   ],
   "source": [
    "np.linalg.solve(Kcontorno, F_contorno)"
   ]
  },
  {
   "cell_type": "code",
   "execution_count": 123,
   "metadata": {},
   "outputs": [
    {
     "data": {
      "text/plain": [
       "array([1.37767322e-07, 8.13724017e-08, 2.49774815e-08, 6.10718058e-07,\n",
       "       8.75495367e-08, 3.11528310e-07, 3.75412764e-07, 1.75083365e-07,\n",
       "       1.36444945e-07, 6.67757465e-07, 9.76405209e-07])"
      ]
     },
     "execution_count": 123,
     "metadata": {},
     "output_type": "execute_result"
    }
   ],
   "source": [
    "uzinho = np.dot(np.linalg.inv(Kcontorno), F_contorno)\n",
    "uzinho"
   ]
  },
  {
   "cell_type": "code",
   "execution_count": 109,
   "metadata": {},
   "outputs": [
    {
     "ename": "SyntaxError",
     "evalue": "invalid syntax (<ipython-input-109-ef8de1024b66>, line 18)",
     "output_type": "error",
     "traceback": [
      "\u001b[1;36m  File \u001b[1;32m\"<ipython-input-109-ef8de1024b66>\"\u001b[1;36m, line \u001b[1;32m18\u001b[0m\n\u001b[1;33m    else:\u001b[0m\n\u001b[1;37m       ^\u001b[0m\n\u001b[1;31mSyntaxError\u001b[0m\u001b[1;31m:\u001b[0m invalid syntax\n"
     ]
    }
   ],
   "source": [
    "def jacobi(ite, tol, K, F):\n",
    "    X = np.zeros((len(F), 1))\n",
    "    D = np.diag(K)\n",
    "    R = K - np.diagflat(D)\n",
    "    \n",
    "    for i in range(ite):\n",
    "        for k in range(len(F)):\n",
    "            antigo = np.copy(X[k])\n",
    "            X[k] = (F[k] - np.dot(R, X)[k])/D[k]\n",
    "            \n",
    "\n",
    "        if X[i] > 0:\n",
    "            erro = np.abs((X[i] - antigo)/ X[i])\n",
    "            if erro > tol:\n",
    "                pass\n",
    "            else:\n",
    "                return X\n",
    "            else: \n",
    "                pass\n",
    "\n",
    "gauss(30, 10E-10, Kcontorno, F_contorno)"
   ]
  },
  {
   "cell_type": "code",
   "execution_count": null,
   "metadata": {},
   "outputs": [],
   "source": [
    "def gauss(ite, tol, K, F):\n",
    "    X = np.zeros((len(F), 1))\n",
    "    \n",
    "    for n in range(ite):\n",
    "        for i in range(len(K)):\n",
    "            antigo = np.copy(X[i])\n",
    "            b = F[i]\n",
    "            \n",
    "            for j in range(len(K)):\n",
    "                if j != i:\n",
    "                    b -= K[i][j] * X[j]\n",
    "            X[i] = b / K[i][i]\n",
    "            \n",
    "            if X[i] > 0:\n",
    "                erro = np.abs((X[i] - antigo)/ X[i])\n",
    "                if erro > tol:\n",
    "                    pass\n",
    "                else:\n",
    "                    return X\n",
    "            else: \n",
    "                pass\n",
    "                \n",
    "            "
   ]
  },
  {
   "cell_type": "code",
   "execution_count": null,
   "metadata": {},
   "outputs": [],
   "source": [
    "    "
   ]
  },
  {
   "cell_type": "code",
   "execution_count": null,
   "metadata": {},
   "outputs": [],
   "source": []
  }
 ],
 "metadata": {
  "kernelspec": {
   "display_name": "Python 3",
   "language": "python",
   "name": "python3"
  },
  "language_info": {
   "codemirror_mode": {
    "name": "ipython",
    "version": 3
   },
   "file_extension": ".py",
   "mimetype": "text/x-python",
   "name": "python",
   "nbconvert_exporter": "python",
   "pygments_lexer": "ipython3",
   "version": "3.7.3"
  }
 },
 "nbformat": 4,
 "nbformat_minor": 4
}
