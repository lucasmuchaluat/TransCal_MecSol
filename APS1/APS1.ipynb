{
 "cells": [
  {
   "cell_type": "code",
   "execution_count": 1,
   "metadata": {},
   "outputs": [],
   "source": [
    "import numpy as np\n",
    "import math"
   ]
  },
  {
   "cell_type": "code",
   "execution_count": 2,
   "metadata": {},
   "outputs": [
    {
     "data": {
      "text/plain": [
       "array([[ 0. ,  0. ,  0.3],\n",
       "       [ 0. ,  0.4,  0.4]])"
      ]
     },
     "execution_count": 2,
     "metadata": {},
     "output_type": "execute_result"
    }
   ],
   "source": [
    "\"\"\"\n",
    "A funcao 'plota' produz um gráfico da estrutura definida pela matriz de nos N \n",
    "e pela incidencia Inc.\n",
    "\n",
    "Sugestao de uso:\n",
    "\n",
    "from funcoesTermosol import plota\n",
    "plota(N,Inc)\n",
    "-------------------------------------------------------------------------------\n",
    "A funcao 'importa' retorna o numero de nos [nn], a matriz dos nos [N], o numero\n",
    "de membros [nm], a matriz de incidencia [Inc], o numero de cargas [nc], o vetor\n",
    "carregamento [F], o numero de restricoes [nr] e o vetor de restricoes [R] \n",
    "contidos no arquivo de entrada.\n",
    "\n",
    "Sugestao de uso:\n",
    "    \n",
    "from funcoesTermosol import importa\n",
    "[nn,N,nm,Inc,nc,F,nr,R] = importa('entrada.xlsx')\n",
    "-------------------------------------------------------------------------------\n",
    "A funcao 'geraSaida' cria um arquivo nome.txt contendo as reacoes de apoio Ft, \n",
    "deslocamentos Ut, forcas Fi e tensoes Ti internas. As entradas devem ser \n",
    "vetores coluna.\n",
    "\n",
    "Sugestao de uso:\n",
    "    \n",
    "from funcoesTermosol import geraSaida\n",
    "geraSaida(nome,Ft,Ut,Epsi,Fi,Ti)\n",
    "-------------------------------------------------------------------------------\n",
    "\n",
    "\"\"\"\n",
    "def plota(N,Inc):\n",
    "    # Numero de membros\n",
    "    nm = len(Inc[:,0])\n",
    "    \n",
    "    import matplotlib as mpl\n",
    "    import matplotlib.pyplot as plt\n",
    "\n",
    "#    plt.show()\n",
    "    fig = plt.figure()\n",
    "    # Passa por todos os membros\n",
    "    for i in range(nm):\n",
    "        \n",
    "        # encontra no inicial [n1] e final [n2] \n",
    "        n1 = int(Inc[i,0])\n",
    "        n2 = int(Inc[i,1])        \n",
    "\n",
    "        plt.plot([N[0,n1-1],N[0,n2-1]],[N[1,n1-1],N[1,n2-1]],color='r',linewidth=3)\n",
    "\n",
    "\n",
    "    plt.xlabel('x [m]')\n",
    "    plt.ylabel('y [m]')\n",
    "    plt.grid(True)\n",
    "    plt.axis('equal')\n",
    "    plt.show()\n",
    "    \n",
    "def importa(entradaNome):\n",
    "    \n",
    "    import numpy as np\n",
    "    import xlrd\n",
    "    \n",
    "    arquivo = xlrd.open_workbook(entradaNome)\n",
    "    \n",
    "    ################################################## Ler os nos\n",
    "    nos = arquivo.sheet_by_name('Nos')\n",
    "    \n",
    "    # Numero de nos\n",
    "    nn = int(nos.cell(1,3).value)\n",
    "                 \n",
    "    # Matriz dos nós\n",
    "    N = np.zeros((2,nn))\n",
    "    \n",
    "    for c in range(nn):\n",
    "        N[0,c] = nos.cell(c+1,0).value\n",
    "        N[1,c] = nos.cell(c+1,1).value\n",
    "    \n",
    "    ################################################## Ler a incidencia\n",
    "    incid = arquivo.sheet_by_name('Incidencia')\n",
    "    \n",
    "    # Numero de membros\n",
    "    nm = int(incid.cell(1,5).value)\n",
    "                 \n",
    "    # Matriz de incidencia\n",
    "    Inc = np.zeros((nm,4))\n",
    "    \n",
    "    for c in range(nm):\n",
    "        Inc[c,0] = int(incid.cell(c+1,0).value)\n",
    "        Inc[c,1] = int(incid.cell(c+1,1).value)\n",
    "        Inc[c,2] = incid.cell(c+1,2).value\n",
    "        Inc[c,3] = incid.cell(c+1,3).value\n",
    "    \n",
    "    ################################################## Ler as cargas\n",
    "    carg = arquivo.sheet_by_name('Carregamento')\n",
    "    \n",
    "    # Numero de cargas\n",
    "    nc = int(carg.cell(1,4).value)\n",
    "                 \n",
    "    # Vetor carregamento\n",
    "    F = np.zeros((nn*2,1))\n",
    "    \n",
    "    for c in range(nc):\n",
    "        no = carg.cell(c+1,0).value\n",
    "        xouy = carg.cell(c+1,1).value\n",
    "        GDL = int(no*2-(2-xouy)) \n",
    "        F[GDL-1,0] = carg.cell(c+1,2).value\n",
    "         \n",
    "    ################################################## Ler restricoes\n",
    "    restr = arquivo.sheet_by_name('Restricao')\n",
    "    \n",
    "    # Numero de restricoes\n",
    "    nr = int(restr.cell(1,3).value)\n",
    "                 \n",
    "    # Vetor com os graus de liberdade restritos\n",
    "    R = np.zeros((nr,1))\n",
    "    \n",
    "    for c in range(nr):\n",
    "        no = restr.cell(c+1,0).value\n",
    "        xouy = restr.cell(c+1,1).value\n",
    "        GDL = no*2-(2-xouy) \n",
    "        R[c,0] = GDL-1\n",
    "\n",
    "\n",
    "    return nn,N,nm,Inc,nc,F,nr,R\n",
    "\n",
    "def geraSaida(nome,Ft,Ut,Epsi,Fi,Ti):\n",
    "    nome = nome + '.txt'\n",
    "    f = open(\"saida.txt\",\"w+\")\n",
    "    f.write('Reacoes de apoio [N]\\n')\n",
    "    f.write(str(Ft))\n",
    "    f.write('\\n\\nDeslocamentos [m]\\n')\n",
    "    f.write(str(Ut))\n",
    "    f.write('\\n\\nDeformacoes []\\n')\n",
    "    f.write(str(Epsi))\n",
    "    f.write('\\n\\nForcas internas [N]\\n')\n",
    "    f.write(str(Fi))\n",
    "    f.write('\\n\\nTensoes internas [Pa]\\n')\n",
    "    f.write(str(Ti))\n",
    "    f.close()\n",
    "    \n",
    "\n",
    "\n",
    "[nn,N,nm,Inc,nc,F,nr,R] = importa('entrada.xlsx')\n",
    "N"
   ]
  },
  {
   "cell_type": "code",
   "execution_count": 3,
   "metadata": {},
   "outputs": [],
   "source": [
    "x = N[0]\n",
    "y = N[1]\n"
   ]
  },
  {
   "cell_type": "code",
   "execution_count": 4,
   "metadata": {},
   "outputs": [
    {
     "data": {
      "text/plain": [
       "[0.40000000000000002, 0.29999999999999999, 0.5]"
      ]
     },
     "execution_count": 4,
     "metadata": {},
     "output_type": "execute_result"
    }
   ],
   "source": [
    "#descobrindo o L\n",
    "L = []\n",
    "\n",
    "for e in range(nn-1):\n",
    "    L.append(((x[e]-x[e+1])**2+(y[e]-y[e+1])**2)**(1/2))\n",
    "L.append(((x[0] -x[nn-1])**2+(y[0]-y[nn-1])**2)**(1/2))\n",
    "\n",
    "L\n"
   ]
  },
  {
   "cell_type": "code",
   "execution_count": 5,
   "metadata": {},
   "outputs": [],
   "source": [
    "#descobrindo os senos e cossenos\n",
    "cos =[]\n",
    "sen=[]\n",
    "\n",
    "for e in range(nn-1):\n",
    "    sen.append((y[e+1]-y[e])/L[e])\n",
    "    cos.append((x[e+1]-x[e])/L[e])\n",
    "\n",
    "cos.append((x[nn-1]-x[0])/L[nn-1])\n",
    "sen.append((y[nn-1]-y[0])/L[nn-1])\n",
    "\n"
   ]
  },
  {
   "cell_type": "code",
   "execution_count": null,
   "metadata": {},
   "outputs": [],
   "source": []
  },
  {
   "cell_type": "code",
   "execution_count": null,
   "metadata": {},
   "outputs": [],
   "source": []
  },
  {
   "cell_type": "code",
   "execution_count": 6,
   "metadata": {},
   "outputs": [],
   "source": [
    "E = []\n",
    "A = []\n",
    "\n",
    "for e in range(nn):\n",
    "    E.append(Inc[e][2])\n",
    "    A.append(Inc[e][3])"
   ]
  },
  {
   "cell_type": "code",
   "execution_count": 9,
   "metadata": {},
   "outputs": [
    {
     "data": {
      "text/plain": [
       "[array([[  0.00000000e+00,   0.00000000e+00,  -0.00000000e+00,\n",
       "          -0.00000000e+00],\n",
       "        [  0.00000000e+00,   1.05000000e+08,  -0.00000000e+00,\n",
       "          -1.05000000e+08],\n",
       "        [ -0.00000000e+00,  -0.00000000e+00,   0.00000000e+00,\n",
       "           0.00000000e+00],\n",
       "        [ -0.00000000e+00,  -1.05000000e+08,   0.00000000e+00,\n",
       "           1.05000000e+08]]),\n",
       " array([[  1.40000000e+08,   0.00000000e+00,  -1.40000000e+08,\n",
       "          -0.00000000e+00],\n",
       "        [  0.00000000e+00,   0.00000000e+00,  -0.00000000e+00,\n",
       "          -0.00000000e+00],\n",
       "        [ -1.40000000e+08,  -0.00000000e+00,   1.40000000e+08,\n",
       "           0.00000000e+00],\n",
       "        [ -0.00000000e+00,  -0.00000000e+00,   0.00000000e+00,\n",
       "           0.00000000e+00]]),\n",
       " array([[ 30240000.        ,  40320000.        , -30240000.        ,\n",
       "         -40320000.        ],\n",
       "        [ 40320000.        ,  53760000.00000001, -40320000.        ,\n",
       "         -53760000.00000001],\n",
       "        [-30240000.        , -40320000.        ,  30240000.        ,\n",
       "          40320000.        ],\n",
       "        [-40320000.        , -53760000.00000001,  40320000.        ,\n",
       "          53760000.00000001]])]"
      ]
     },
     "execution_count": 9,
     "metadata": {},
     "output_type": "execute_result"
    }
   ],
   "source": [
    "TK =[]\n",
    "\n",
    "for e in range(nn):\n",
    "    c = cos[e]\n",
    "    s = sen [e]\n",
    "    T = np.array([[c**2, c*s, -c**2, -c*s],\n",
    "                [c*s, s**2, -c*s, -s**2],\n",
    "                 [-c**2, -c*s, c**2, c*s],\n",
    "                 [-c*s, -s**2, c*s, s**2]])\n",
    "    TK.append((E[e]*A[e]/L[e]) * (T))\n",
    "    \n",
    "    \n",
    "TK"
   ]
  },
  {
   "cell_type": "code",
   "execution_count": 114,
   "metadata": {
    "scrolled": true
   },
   "outputs": [
    {
     "data": {
      "text/plain": [
       "array([[  3.02400000e+07,   4.03200000e+07,   0.00000000e+00,\n",
       "          0.00000000e+00,  -3.02400000e+07,  -4.03200000e+07],\n",
       "       [  4.03200000e+07,   1.58760000e+08,   0.00000000e+00,\n",
       "         -1.05000000e+08,  -4.03200000e+07,  -5.37600000e+07],\n",
       "       [  0.00000000e+00,   0.00000000e+00,   1.40000000e+08,\n",
       "          0.00000000e+00,  -1.40000000e+08,   0.00000000e+00],\n",
       "       [  0.00000000e+00,  -1.05000000e+08,   0.00000000e+00,\n",
       "          1.05000000e+08,   0.00000000e+00,   0.00000000e+00],\n",
       "       [ -3.02400000e+07,  -4.03200000e+07,  -1.40000000e+08,\n",
       "          0.00000000e+00,   1.70240000e+08,   4.03200000e+07],\n",
       "       [ -4.03200000e+07,  -5.37600000e+07,   0.00000000e+00,\n",
       "          0.00000000e+00,   4.03200000e+07,   5.37600000e+07]])"
      ]
     },
     "execution_count": 114,
     "metadata": {},
     "output_type": "execute_result"
    }
   ],
   "source": [
    "gdlmax = 6\n",
    "\n",
    "gdl = np.array([[0,1,2,3],\n",
    "               [2,3,4,5],\n",
    "               [4,5,0,1]])\n",
    "\n",
    "Kglobal = np.zeros((gdlmax,gdlmax))\n",
    "\n",
    "listauxiliar = []\n",
    "for e in range(len(gdl)):\n",
    "    listauxiliar = gdl[e]\n",
    "    for i in range(0,4):\n",
    "        for j in range(0,4):\n",
    "            Kglobal[listauxiliar[i]][listauxiliar[j]] += TK[e][i][j]\n",
    "    \n",
    "Kglobal"
   ]
  },
  {
   "cell_type": "code",
   "execution_count": 124,
   "metadata": {},
   "outputs": [],
   "source": [
    "Pg = np.array ([[0],\n",
    "            [150],\n",
    "            [-100]])\n",
    "\n",
    "\n",
    "Pgindice = [1,4,5]"
   ]
  },
  {
   "cell_type": "code",
   "execution_count": 128,
   "metadata": {},
   "outputs": [
    {
     "data": {
      "text/plain": [
       "array([[  1.58760000e+08,  -4.03200000e+07,  -5.37600000e+07],\n",
       "       [ -4.03200000e+07,   1.70240000e+08,   4.03200000e+07],\n",
       "       [ -5.37600000e+07,   4.03200000e+07,   5.37600000e+07]])"
      ]
     },
     "execution_count": 128,
     "metadata": {},
     "output_type": "execute_result"
    }
   ],
   "source": [
    "Kcontorno = np.zeros((len(Pgindice),len(Pgindice)))\n",
    "\n",
    "for e in range(len(Pgindice)):\n",
    "    for x in range(len(Pgindice)):\n",
    "        Kcontorno[e][x] += Kglobal[Pgindice[e]][Pgindice[x]]\n",
    "\n",
    "Kcontorno"
   ]
  },
  {
   "cell_type": "code",
   "execution_count": 130,
   "metadata": {},
   "outputs": [
    {
     "data": {
      "text/plain": [
       "array([[  1.51200000e+00,   1.41355009e-18,  -5.12000000e-01],\n",
       "       [ -1.06870691e-18,   1.21600000e+00,  -2.16000000e-01],\n",
       "       [ -5.12000000e-01,  -2.16000000e-01,   1.72800000e+00]])"
      ]
     },
     "execution_count": 130,
     "metadata": {},
     "output_type": "execute_result"
    }
   ],
   "source": [
    "np.linalg.inv(Kcontorno) * Kcontorno"
   ]
  },
  {
   "cell_type": "code",
   "execution_count": 135,
   "metadata": {},
   "outputs": [
    {
     "data": {
      "text/plain": [
       "array([[ -9.52380952e-07],\n",
       "       [  1.60714286e-06],\n",
       "       [ -4.01785714e-06]])"
      ]
     },
     "execution_count": 135,
     "metadata": {},
     "output_type": "execute_result"
    }
   ],
   "source": [
    "uzinho = np.dot(np.linalg.inv(Kcontorno), Pg)\n",
    "uzinho"
   ]
  },
  {
   "cell_type": "code",
   "execution_count": 166,
   "metadata": {},
   "outputs": [
    {
     "data": {
      "text/plain": [
       "array([[  0.00000000e+00],\n",
       "       [ -9.52380952e-07],\n",
       "       [  0.00000000e+00],\n",
       "       [  0.00000000e+00],\n",
       "       [  1.60714286e-06],\n",
       "       [ -4.01785714e-06]])"
      ]
     },
     "execution_count": 166,
     "metadata": {},
     "output_type": "execute_result"
    }
   ],
   "source": [
    "Uzao = np.zeros((gdlmax,1))\n",
    "\n",
    "for e in range(len(Pgindice)):\n",
    "    Uzao[Pgindice[e]][0] += uzinho[e][0]\n",
    "\n",
    "Uzao"
   ]
  },
  {
   "cell_type": "code",
   "execution_count": null,
   "metadata": {},
   "outputs": [],
   "source": []
  },
  {
   "cell_type": "code",
   "execution_count": null,
   "metadata": {},
   "outputs": [],
   "source": []
  }
 ],
 "metadata": {
  "kernelspec": {
   "display_name": "Python 3",
   "language": "python",
   "name": "python3"
  },
  "language_info": {
   "codemirror_mode": {
    "name": "ipython",
    "version": 3
   },
   "file_extension": ".py",
   "mimetype": "text/x-python",
   "name": "python",
   "nbconvert_exporter": "python",
   "pygments_lexer": "ipython3",
   "version": "3.6.4"
  }
 },
 "nbformat": 4,
 "nbformat_minor": 4
}
